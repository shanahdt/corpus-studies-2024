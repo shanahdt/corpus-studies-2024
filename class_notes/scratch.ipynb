{
 "cells": [
  {
   "cell_type": "code",
   "execution_count": 1,
   "metadata": {},
   "outputs": [],
   "source": [
    "#!/Users/danielshanahan/opt/anaconda3/bin/python3\n",
    "\n",
    "from music21 import converter, pitch\n",
    "score = converter.parse('happy_birthday.krn')\n",
    "\n"
   ]
  },
  {
   "cell_type": "code",
   "execution_count": 3,
   "metadata": {},
   "outputs": [
    {
     "name": "stdout",
     "output_type": "stream",
     "text": [
      "[<music21.pitch.Pitch D4>, <music21.pitch.Pitch D4>, <music21.pitch.Pitch E4>, <music21.pitch.Pitch D4>, <music21.pitch.Pitch G4>, <music21.pitch.Pitch F#4>, <music21.pitch.Pitch D4>, <music21.pitch.Pitch D4>, <music21.pitch.Pitch E4>, <music21.pitch.Pitch D4>, <music21.pitch.Pitch A4>, <music21.pitch.Pitch G4>, <music21.pitch.Pitch D4>, <music21.pitch.Pitch D4>, <music21.pitch.Pitch D5>, <music21.pitch.Pitch B4>, <music21.pitch.Pitch G4>, <music21.pitch.Pitch F#4>, <music21.pitch.Pitch E4>, <music21.pitch.Pitch C4>, <music21.pitch.Pitch C4>, <music21.pitch.Pitch B4>, <music21.pitch.Pitch G4>, <music21.pitch.Pitch A4>, <music21.pitch.Pitch G4>]\n"
     ]
    }
   ],
   "source": [
    "# Extract all pitches\n",
    "all_pitches = score.pitches\n",
    "\n",
    "print(all_pitches)"
   ]
  },
  {
   "cell_type": "code",
   "execution_count": 18,
   "metadata": {},
   "outputs": [
    {
     "name": "stdout",
     "output_type": "stream",
     "text": [
      "5\n",
      "5\n",
      "6\n",
      "5\n",
      "1\n",
      "7\n",
      "5\n",
      "5\n",
      "6\n",
      "5\n",
      "2\n",
      "1\n",
      "5\n",
      "5\n",
      "5\n",
      "3\n",
      "1\n",
      "7\n",
      "6\n",
      "4\n",
      "4\n",
      "3\n",
      "1\n",
      "2\n",
      "1\n"
     ]
    },
    {
     "ename": "NameError",
     "evalue": "name 'unique' is not defined",
     "output_type": "error",
     "traceback": [
      "\u001b[0;31m---------------------------------------------------------------------------\u001b[0m",
      "\u001b[0;31mNameError\u001b[0m                                 Traceback (most recent call last)",
      "\u001b[0;32m/var/folders/qm/x0jnv3rn5nggh1kkgswgjjlc0000gn/T/ipykernel_6837/1751018011.py\u001b[0m in \u001b[0;36m<module>\u001b[0;34m\u001b[0m\n\u001b[1;32m     17\u001b[0m   \u001b[0mprint\u001b[0m\u001b[0;34m(\u001b[0m\u001b[0;34mf'{scale_degree}'\u001b[0m\u001b[0;34m)\u001b[0m\u001b[0;34m\u001b[0m\u001b[0;34m\u001b[0m\u001b[0m\n\u001b[1;32m     18\u001b[0m \u001b[0;34m\u001b[0m\u001b[0m\n\u001b[0;32m---> 19\u001b[0;31m \u001b[0munique\u001b[0m\u001b[0;34m(\u001b[0m\u001b[0mscale_degree\u001b[0m\u001b[0;34m)\u001b[0m\u001b[0;34m\u001b[0m\u001b[0;34m\u001b[0m\u001b[0m\n\u001b[0m",
      "\u001b[0;31mNameError\u001b[0m: name 'unique' is not defined"
     ]
    }
   ],
   "source": [
    "from music21 import converter, pitch, analysis\n",
    "from collections import Counter\n",
    "\n",
    "# Parse the kern file\n",
    "score = converter.parse('happy_birthday.krn')\n",
    "\n",
    "pitch_count = analysis.discrete.KrumhanslKessler(score)\n",
    "key = pitch_count.getSolution(score)\n",
    "\n",
    "# Determine the key of the piece\n",
    "pitch_count = analysis.discrete.KrumhanslKessler(score)\n",
    "key = pitch_count.getSolution(score)\n",
    "\n",
    "# grab the scale degree of everything.\n",
    "for n in score.flat.notes:\n",
    "  scale_degree = key.getScaleDegreeFromPitch(n.name)\n",
    "  print(f'{scale_degree}')\n",
    "\n",
    "unique(scale_degree)"
   ]
  },
  {
   "cell_type": "code",
   "execution_count": 21,
   "metadata": {},
   "outputs": [
    {
     "name": "stdout",
     "output_type": "stream",
     "text": [
      "Scale Degree5: 9\n",
      "Scale Degree1: 5\n",
      "Scale Degree6: 3\n",
      "Scale Degree7: 2\n",
      "Scale Degree2: 2\n",
      "Scale Degree3: 2\n",
      "Scale Degree4: 2\n"
     ]
    }
   ],
   "source": [
    "from music21 import converter, pitch, analysis\n",
    "from collections import Counter\n",
    "\n",
    "# Parse the kern file\n",
    "score = converter.parse('happy_birthday.krn')\n",
    "\n",
    "# Determine the key of the piece using Krumhansl-Kessler algorithm\n",
    "pitch_count = analysis.discrete.KrumhanslKessler(score)\n",
    "key = pitch_count.getSolution(score)\n",
    "\n",
    "# Initialize a Counter to store scale degree counts\n",
    "scale_degree_counter = Counter()\n",
    "\n",
    "# Count scale degrees for each note\n",
    "for n in score.flat.notes:\n",
    "    scale_degree = key.getScaleDegreeFromPitch(n.pitch)\n",
    "    scale_degree_counter[scale_degree] += 1\n",
    "\n",
    "# Print results\n",
    "for scale_degree, count in scale_degree_counter.most_common():\n",
    "    print(f\"Scale Degree {scale_degree}: {count}\")\n"
   ]
  },
  {
   "cell_type": "code",
   "execution_count": null,
   "metadata": {},
   "outputs": [],
   "source": []
  }
 ],
 "metadata": {
  "kernelspec": {
   "display_name": "Python 3",
   "language": "python",
   "name": "python3"
  },
  "language_info": {
   "codemirror_mode": {
    "name": "ipython",
    "version": 3
   },
   "file_extension": ".py",
   "mimetype": "text/x-python",
   "name": "python",
   "nbconvert_exporter": "python",
   "pygments_lexer": "ipython3",
   "version": "3.7.7"
  }
 },
 "nbformat": 4,
 "nbformat_minor": 2
}
